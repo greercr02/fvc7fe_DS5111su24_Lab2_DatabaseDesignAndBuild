{
  "nbformat": 4,
  "nbformat_minor": 0,
  "metadata": {
    "colab": {
      "provenance": [],
      "authorship_tag": "ABX9TyPMb2JRMu5FCxyrn/Wo1YMD",
      "include_colab_link": true
    },
    "kernelspec": {
      "name": "python3",
      "display_name": "Python 3"
    },
    "language_info": {
      "name": "python"
    }
  },
  "cells": [
    {
      "cell_type": "markdown",
      "metadata": {
        "id": "view-in-github",
        "colab_type": "text"
      },
      "source": [
        "<a href=\"https://colab.research.google.com/github/greercr02/fvc7fe_DS5111su24_Lab2_DatabaseDesignAndBuild/blob/main/fvc7fe_DS5111_Lab2.ipynb\" target=\"_parent\"><img src=\"https://colab.research.google.com/assets/colab-badge.svg\" alt=\"Open In Colab\"/></a>"
      ]
    },
    {
      "cell_type": "code",
      "execution_count": 1,
      "metadata": {
        "colab": {
          "base_uri": "https://localhost:8080/"
        },
        "id": "Qti11is_vzrM",
        "outputId": "4e489f2c-d9a6-4c87-8106-4f52d4652068"
      },
      "outputs": [
        {
          "output_type": "stream",
          "name": "stdout",
          "text": [
            "Requirement already satisfied: pandas in /usr/local/lib/python3.10/dist-packages (2.2.2)\n",
            "Requirement already satisfied: openpyxl in /usr/local/lib/python3.10/dist-packages (3.1.5)\n",
            "Requirement already satisfied: numpy>=1.22.4 in /usr/local/lib/python3.10/dist-packages (from pandas) (1.26.4)\n",
            "Requirement already satisfied: python-dateutil>=2.8.2 in /usr/local/lib/python3.10/dist-packages (from pandas) (2.8.2)\n",
            "Requirement already satisfied: pytz>=2020.1 in /usr/local/lib/python3.10/dist-packages (from pandas) (2024.2)\n",
            "Requirement already satisfied: tzdata>=2022.7 in /usr/local/lib/python3.10/dist-packages (from pandas) (2024.2)\n",
            "Requirement already satisfied: et-xmlfile in /usr/local/lib/python3.10/dist-packages (from openpyxl) (2.0.0)\n",
            "Requirement already satisfied: six>=1.5 in /usr/local/lib/python3.10/dist-packages (from python-dateutil>=2.8.2->pandas) (1.16.0)\n"
          ]
        }
      ],
      "source": [
        "!pip install pandas openpyxl\n"
      ]
    },
    {
      "cell_type": "code",
      "source": [
        "import pandas as pd\n",
        "\n",
        "# Load the uploaded Excel file\n",
        "file_path = 'current_learning_objectives_raw_data.xlsx'\n",
        "excel_data = pd.ExcelFile(file_path)\n",
        "\n",
        "# List all sheet names to identify available data\n",
        "print(excel_data.sheet_names)\n"
      ],
      "metadata": {
        "colab": {
          "base_uri": "https://localhost:8080/"
        },
        "id": "ZvaNzwRQwcCR",
        "outputId": "88be2116-747d-4f8d-f211-bfe7b9c16a09"
      },
      "execution_count": 3,
      "outputs": [
        {
          "output_type": "stream",
          "name": "stdout",
          "text": [
            "['assigned_raw', 'other_data_raw', 'tech_bootcamp', '5001', '5012', '5100', '5110', '6001', '6002', '6003', '6011', '6012', '6013', '6021', '6030', '6040', '6050', 'biz_analytics']\n"
          ]
        }
      ]
    },
    {
      "cell_type": "code",
      "source": [
        "# Initialize an empty DataFrame for courses\n",
        "courses = []\n",
        "\n",
        "# Loop through course sheets\n",
        "for sheet_name in ['5001', '5012', '5100', '5110', '6001', '6002', '6003', '6011', '6012', '6013', '6021', '6030', '6040', '6050', 'biz_analytics']:\n",
        "    sheet_data = excel_data.parse(sheet_name)\n",
        "    courses.append({\n",
        "        \"course_mnemonic\": sheet_name,  # Use the sheet name as the mnemonic\n",
        "        \"course_name\": sheet_data.iloc[0, 0],  # Assume the course name is in the first cell\n",
        "        \"is_active\": True  # Default to active; adjust logic if there's an activity flag\n",
        "    })\n",
        "\n",
        "# Convert to DataFrame\n",
        "courses_df = pd.DataFrame(courses)\n",
        "courses_df.to_csv('courses.csv', index=False)\n",
        "print(\"Courses CSV created!\")\n"
      ],
      "metadata": {
        "colab": {
          "base_uri": "https://localhost:8080/"
        },
        "id": "MqdsYhsgwn_y",
        "outputId": "86410140-8118-47a4-ecfd-dc94ae36bc10"
      },
      "execution_count": 5,
      "outputs": [
        {
          "output_type": "stream",
          "name": "stdout",
          "text": [
            "Courses CSV created!\n"
          ]
        }
      ]
    },
    {
      "cell_type": "code",
      "source": [
        "# Initialize an empty DataFrame for learning outcomes\n",
        "learning_outcomes = []\n",
        "\n",
        "# Loop through course sheets\n",
        "for sheet_name in ['5001', '5012', '5100', '5110', '6001', '6002', '6003', '6011', '6012', '6013', '6021', '6030', '6040', '6050', 'biz_analytics']:\n",
        "    sheet_data = excel_data.parse(sheet_name)\n",
        "\n",
        "    # Assume learning outcomes start from row 2\n",
        "    for index, row in sheet_data.iterrows():\n",
        "        if index < 2:  # Skip header rows\n",
        "            continue\n",
        "        learning_outcomes.append({\n",
        "            \"learning_outcome_id\": len(learning_outcomes) + 1,  # Auto-increment ID\n",
        "            \"course_mnemonic\": sheet_name,  # Use the sheet name as the mnemonic\n",
        "            \"description\": row[1],  # Assume learning outcomes are in the second column\n",
        "            \"is_active\": True  # Default to active\n",
        "        })\n",
        "\n",
        "# Convert to DataFrame\n",
        "learning_outcomes_df = pd.DataFrame(learning_outcomes)\n",
        "learning_outcomes_df.to_csv('learning_outcomes.csv', index=False)\n",
        "print(\"Learning Outcomes CSV created!\")\n"
      ],
      "metadata": {
        "colab": {
          "base_uri": "https://localhost:8080/"
        },
        "id": "8G1fCaBTxkEB",
        "outputId": "6eb52526-a723-4f90-87a2-45da050b0246"
      },
      "execution_count": 6,
      "outputs": [
        {
          "output_type": "stream",
          "name": "stdout",
          "text": [
            "Learning Outcomes CSV created!\n"
          ]
        },
        {
          "output_type": "stream",
          "name": "stderr",
          "text": [
            "<ipython-input-6-3fbaec0bc2b5>:15: FutureWarning: Series.__getitem__ treating keys as positions is deprecated. In a future version, integer keys will always be treated as labels (consistent with DataFrame behavior). To access a value by position, use `ser.iloc[pos]`\n",
            "  \"description\": row[1],  # Assume learning outcomes are in the second column\n",
            "<ipython-input-6-3fbaec0bc2b5>:15: FutureWarning: Series.__getitem__ treating keys as positions is deprecated. In a future version, integer keys will always be treated as labels (consistent with DataFrame behavior). To access a value by position, use `ser.iloc[pos]`\n",
            "  \"description\": row[1],  # Assume learning outcomes are in the second column\n",
            "<ipython-input-6-3fbaec0bc2b5>:15: FutureWarning: Series.__getitem__ treating keys as positions is deprecated. In a future version, integer keys will always be treated as labels (consistent with DataFrame behavior). To access a value by position, use `ser.iloc[pos]`\n",
            "  \"description\": row[1],  # Assume learning outcomes are in the second column\n",
            "<ipython-input-6-3fbaec0bc2b5>:15: FutureWarning: Series.__getitem__ treating keys as positions is deprecated. In a future version, integer keys will always be treated as labels (consistent with DataFrame behavior). To access a value by position, use `ser.iloc[pos]`\n",
            "  \"description\": row[1],  # Assume learning outcomes are in the second column\n",
            "<ipython-input-6-3fbaec0bc2b5>:15: FutureWarning: Series.__getitem__ treating keys as positions is deprecated. In a future version, integer keys will always be treated as labels (consistent with DataFrame behavior). To access a value by position, use `ser.iloc[pos]`\n",
            "  \"description\": row[1],  # Assume learning outcomes are in the second column\n",
            "<ipython-input-6-3fbaec0bc2b5>:15: FutureWarning: Series.__getitem__ treating keys as positions is deprecated. In a future version, integer keys will always be treated as labels (consistent with DataFrame behavior). To access a value by position, use `ser.iloc[pos]`\n",
            "  \"description\": row[1],  # Assume learning outcomes are in the second column\n",
            "<ipython-input-6-3fbaec0bc2b5>:15: FutureWarning: Series.__getitem__ treating keys as positions is deprecated. In a future version, integer keys will always be treated as labels (consistent with DataFrame behavior). To access a value by position, use `ser.iloc[pos]`\n",
            "  \"description\": row[1],  # Assume learning outcomes are in the second column\n",
            "<ipython-input-6-3fbaec0bc2b5>:15: FutureWarning: Series.__getitem__ treating keys as positions is deprecated. In a future version, integer keys will always be treated as labels (consistent with DataFrame behavior). To access a value by position, use `ser.iloc[pos]`\n",
            "  \"description\": row[1],  # Assume learning outcomes are in the second column\n",
            "<ipython-input-6-3fbaec0bc2b5>:15: FutureWarning: Series.__getitem__ treating keys as positions is deprecated. In a future version, integer keys will always be treated as labels (consistent with DataFrame behavior). To access a value by position, use `ser.iloc[pos]`\n",
            "  \"description\": row[1],  # Assume learning outcomes are in the second column\n",
            "<ipython-input-6-3fbaec0bc2b5>:15: FutureWarning: Series.__getitem__ treating keys as positions is deprecated. In a future version, integer keys will always be treated as labels (consistent with DataFrame behavior). To access a value by position, use `ser.iloc[pos]`\n",
            "  \"description\": row[1],  # Assume learning outcomes are in the second column\n",
            "<ipython-input-6-3fbaec0bc2b5>:15: FutureWarning: Series.__getitem__ treating keys as positions is deprecated. In a future version, integer keys will always be treated as labels (consistent with DataFrame behavior). To access a value by position, use `ser.iloc[pos]`\n",
            "  \"description\": row[1],  # Assume learning outcomes are in the second column\n",
            "<ipython-input-6-3fbaec0bc2b5>:15: FutureWarning: Series.__getitem__ treating keys as positions is deprecated. In a future version, integer keys will always be treated as labels (consistent with DataFrame behavior). To access a value by position, use `ser.iloc[pos]`\n",
            "  \"description\": row[1],  # Assume learning outcomes are in the second column\n",
            "<ipython-input-6-3fbaec0bc2b5>:15: FutureWarning: Series.__getitem__ treating keys as positions is deprecated. In a future version, integer keys will always be treated as labels (consistent with DataFrame behavior). To access a value by position, use `ser.iloc[pos]`\n",
            "  \"description\": row[1],  # Assume learning outcomes are in the second column\n",
            "<ipython-input-6-3fbaec0bc2b5>:15: FutureWarning: Series.__getitem__ treating keys as positions is deprecated. In a future version, integer keys will always be treated as labels (consistent with DataFrame behavior). To access a value by position, use `ser.iloc[pos]`\n",
            "  \"description\": row[1],  # Assume learning outcomes are in the second column\n",
            "<ipython-input-6-3fbaec0bc2b5>:15: FutureWarning: Series.__getitem__ treating keys as positions is deprecated. In a future version, integer keys will always be treated as labels (consistent with DataFrame behavior). To access a value by position, use `ser.iloc[pos]`\n",
            "  \"description\": row[1],  # Assume learning outcomes are in the second column\n"
          ]
        }
      ]
    },
    {
      "cell_type": "code",
      "source": [
        "# Load the 'assigned_raw' sheet\n",
        "assigned_raw = excel_data.parse('assigned_raw')\n",
        "\n",
        "# Process instructors\n",
        "instructors = []\n",
        "unique_instructors = set()  # To ensure uniqueness\n",
        "for column in assigned_raw.columns:\n",
        "    if 'Instructor' in column:  # Check for instructor columns\n",
        "        for name in assigned_raw[column].dropna().unique():\n",
        "            if name not in unique_instructors:\n",
        "                instructors.append({\n",
        "                    \"instructor_id\": len(instructors) + 1,\n",
        "                    \"name\": name,\n",
        "                    \"is_active\": True  # Default to active; adjust as needed\n",
        "                })\n",
        "                unique_instructors.add(name)\n",
        "\n",
        "# Convert to DataFrame\n",
        "instructors_df = pd.DataFrame(instructors)\n",
        "instructors_df.to_csv('instructors.csv', index=False)\n",
        "print(\"Instructors CSV created!\")\n"
      ],
      "metadata": {
        "colab": {
          "base_uri": "https://localhost:8080/"
        },
        "id": "2bb-2sZOxt8r",
        "outputId": "afd284bf-6e8b-4c18-b7f2-0a8171975b52"
      },
      "execution_count": 7,
      "outputs": [
        {
          "output_type": "stream",
          "name": "stdout",
          "text": [
            "Instructors CSV created!\n"
          ]
        }
      ]
    },
    {
      "cell_type": "code",
      "source": [
        "# Initialize an empty DataFrame for assignments\n",
        "assignments = []\n",
        "\n",
        "# Process term-specific data\n",
        "terms = ['Fall 2021', 'Spring 2021', 'Summer 2021']  # Update if terms are labeled differently\n",
        "for index, row in assigned_raw.iterrows():\n",
        "    for term in terms:\n",
        "        if pd.notnull(row.get(term)):  # Check if term data exists\n",
        "            assignments.append({\n",
        "                \"assignment_id\": len(assignments) + 1,\n",
        "                \"course_mnemonic\": row['Course'],  # Adjust to actual column name\n",
        "                \"instructor_id\": row['Instructor'],  # Adjust to actual column name\n",
        "                \"term\": term\n",
        "            })\n",
        "\n",
        "# Convert to DataFrame\n",
        "assignments_df = pd.DataFrame(assignments)\n",
        "assignments_df.to_csv('assignments.csv', index=False)\n",
        "print(\"Assignments CSV created!\")\n"
      ],
      "metadata": {
        "colab": {
          "base_uri": "https://localhost:8080/"
        },
        "id": "IbjHIpr4x2wj",
        "outputId": "3ae9bc7d-a7f7-485c-e91f-59763f4cd1c4"
      },
      "execution_count": 8,
      "outputs": [
        {
          "output_type": "stream",
          "name": "stdout",
          "text": [
            "Assignments CSV created!\n"
          ]
        }
      ]
    },
    {
      "cell_type": "code",
      "source": [
        "from google.colab import files\n",
        "\n",
        "files.download('courses.csv')\n",
        "files.download('learning_outcomes.csv')\n",
        "files.download('instructors.csv')\n",
        "files.download('assignments.csv')\n"
      ],
      "metadata": {
        "colab": {
          "base_uri": "https://localhost:8080/",
          "height": 17
        },
        "id": "_whmY6XHyACR",
        "outputId": "eef443ed-f6cc-4419-e417-8748607222a4"
      },
      "execution_count": 9,
      "outputs": [
        {
          "output_type": "display_data",
          "data": {
            "text/plain": [
              "<IPython.core.display.Javascript object>"
            ],
            "application/javascript": [
              "\n",
              "    async function download(id, filename, size) {\n",
              "      if (!google.colab.kernel.accessAllowed) {\n",
              "        return;\n",
              "      }\n",
              "      const div = document.createElement('div');\n",
              "      const label = document.createElement('label');\n",
              "      label.textContent = `Downloading \"${filename}\": `;\n",
              "      div.appendChild(label);\n",
              "      const progress = document.createElement('progress');\n",
              "      progress.max = size;\n",
              "      div.appendChild(progress);\n",
              "      document.body.appendChild(div);\n",
              "\n",
              "      const buffers = [];\n",
              "      let downloaded = 0;\n",
              "\n",
              "      const channel = await google.colab.kernel.comms.open(id);\n",
              "      // Send a message to notify the kernel that we're ready.\n",
              "      channel.send({})\n",
              "\n",
              "      for await (const message of channel.messages) {\n",
              "        // Send a message to notify the kernel that we're ready.\n",
              "        channel.send({})\n",
              "        if (message.buffers) {\n",
              "          for (const buffer of message.buffers) {\n",
              "            buffers.push(buffer);\n",
              "            downloaded += buffer.byteLength;\n",
              "            progress.value = downloaded;\n",
              "          }\n",
              "        }\n",
              "      }\n",
              "      const blob = new Blob(buffers, {type: 'application/binary'});\n",
              "      const a = document.createElement('a');\n",
              "      a.href = window.URL.createObjectURL(blob);\n",
              "      a.download = filename;\n",
              "      div.appendChild(a);\n",
              "      a.click();\n",
              "      div.remove();\n",
              "    }\n",
              "  "
            ]
          },
          "metadata": {}
        },
        {
          "output_type": "display_data",
          "data": {
            "text/plain": [
              "<IPython.core.display.Javascript object>"
            ],
            "application/javascript": [
              "download(\"download_f18e4841-8c38-40c4-8334-74bacf6e7cc7\", \"courses.csv\", 212)"
            ]
          },
          "metadata": {}
        },
        {
          "output_type": "display_data",
          "data": {
            "text/plain": [
              "<IPython.core.display.Javascript object>"
            ],
            "application/javascript": [
              "\n",
              "    async function download(id, filename, size) {\n",
              "      if (!google.colab.kernel.accessAllowed) {\n",
              "        return;\n",
              "      }\n",
              "      const div = document.createElement('div');\n",
              "      const label = document.createElement('label');\n",
              "      label.textContent = `Downloading \"${filename}\": `;\n",
              "      div.appendChild(label);\n",
              "      const progress = document.createElement('progress');\n",
              "      progress.max = size;\n",
              "      div.appendChild(progress);\n",
              "      document.body.appendChild(div);\n",
              "\n",
              "      const buffers = [];\n",
              "      let downloaded = 0;\n",
              "\n",
              "      const channel = await google.colab.kernel.comms.open(id);\n",
              "      // Send a message to notify the kernel that we're ready.\n",
              "      channel.send({})\n",
              "\n",
              "      for await (const message of channel.messages) {\n",
              "        // Send a message to notify the kernel that we're ready.\n",
              "        channel.send({})\n",
              "        if (message.buffers) {\n",
              "          for (const buffer of message.buffers) {\n",
              "            buffers.push(buffer);\n",
              "            downloaded += buffer.byteLength;\n",
              "            progress.value = downloaded;\n",
              "          }\n",
              "        }\n",
              "      }\n",
              "      const blob = new Blob(buffers, {type: 'application/binary'});\n",
              "      const a = document.createElement('a');\n",
              "      a.href = window.URL.createObjectURL(blob);\n",
              "      a.download = filename;\n",
              "      div.appendChild(a);\n",
              "      a.click();\n",
              "      div.remove();\n",
              "    }\n",
              "  "
            ]
          },
          "metadata": {}
        },
        {
          "output_type": "display_data",
          "data": {
            "text/plain": [
              "<IPython.core.display.Javascript object>"
            ],
            "application/javascript": [
              "download(\"download_28a0e1ad-c8ac-4961-9a72-e9e310ae8303\", \"learning_outcomes.csv\", 18964)"
            ]
          },
          "metadata": {}
        },
        {
          "output_type": "display_data",
          "data": {
            "text/plain": [
              "<IPython.core.display.Javascript object>"
            ],
            "application/javascript": [
              "\n",
              "    async function download(id, filename, size) {\n",
              "      if (!google.colab.kernel.accessAllowed) {\n",
              "        return;\n",
              "      }\n",
              "      const div = document.createElement('div');\n",
              "      const label = document.createElement('label');\n",
              "      label.textContent = `Downloading \"${filename}\": `;\n",
              "      div.appendChild(label);\n",
              "      const progress = document.createElement('progress');\n",
              "      progress.max = size;\n",
              "      div.appendChild(progress);\n",
              "      document.body.appendChild(div);\n",
              "\n",
              "      const buffers = [];\n",
              "      let downloaded = 0;\n",
              "\n",
              "      const channel = await google.colab.kernel.comms.open(id);\n",
              "      // Send a message to notify the kernel that we're ready.\n",
              "      channel.send({})\n",
              "\n",
              "      for await (const message of channel.messages) {\n",
              "        // Send a message to notify the kernel that we're ready.\n",
              "        channel.send({})\n",
              "        if (message.buffers) {\n",
              "          for (const buffer of message.buffers) {\n",
              "            buffers.push(buffer);\n",
              "            downloaded += buffer.byteLength;\n",
              "            progress.value = downloaded;\n",
              "          }\n",
              "        }\n",
              "      }\n",
              "      const blob = new Blob(buffers, {type: 'application/binary'});\n",
              "      const a = document.createElement('a');\n",
              "      a.href = window.URL.createObjectURL(blob);\n",
              "      a.download = filename;\n",
              "      div.appendChild(a);\n",
              "      a.click();\n",
              "      div.remove();\n",
              "    }\n",
              "  "
            ]
          },
          "metadata": {}
        },
        {
          "output_type": "display_data",
          "data": {
            "text/plain": [
              "<IPython.core.display.Javascript object>"
            ],
            "application/javascript": [
              "download(\"download_4bb8de2e-fef6-4347-96c0-3f729f067051\", \"instructors.csv\", 1)"
            ]
          },
          "metadata": {}
        },
        {
          "output_type": "display_data",
          "data": {
            "text/plain": [
              "<IPython.core.display.Javascript object>"
            ],
            "application/javascript": [
              "\n",
              "    async function download(id, filename, size) {\n",
              "      if (!google.colab.kernel.accessAllowed) {\n",
              "        return;\n",
              "      }\n",
              "      const div = document.createElement('div');\n",
              "      const label = document.createElement('label');\n",
              "      label.textContent = `Downloading \"${filename}\": `;\n",
              "      div.appendChild(label);\n",
              "      const progress = document.createElement('progress');\n",
              "      progress.max = size;\n",
              "      div.appendChild(progress);\n",
              "      document.body.appendChild(div);\n",
              "\n",
              "      const buffers = [];\n",
              "      let downloaded = 0;\n",
              "\n",
              "      const channel = await google.colab.kernel.comms.open(id);\n",
              "      // Send a message to notify the kernel that we're ready.\n",
              "      channel.send({})\n",
              "\n",
              "      for await (const message of channel.messages) {\n",
              "        // Send a message to notify the kernel that we're ready.\n",
              "        channel.send({})\n",
              "        if (message.buffers) {\n",
              "          for (const buffer of message.buffers) {\n",
              "            buffers.push(buffer);\n",
              "            downloaded += buffer.byteLength;\n",
              "            progress.value = downloaded;\n",
              "          }\n",
              "        }\n",
              "      }\n",
              "      const blob = new Blob(buffers, {type: 'application/binary'});\n",
              "      const a = document.createElement('a');\n",
              "      a.href = window.URL.createObjectURL(blob);\n",
              "      a.download = filename;\n",
              "      div.appendChild(a);\n",
              "      a.click();\n",
              "      div.remove();\n",
              "    }\n",
              "  "
            ]
          },
          "metadata": {}
        },
        {
          "output_type": "display_data",
          "data": {
            "text/plain": [
              "<IPython.core.display.Javascript object>"
            ],
            "application/javascript": [
              "download(\"download_8aac42fe-5f8b-46a1-8c2c-d7720d04a4c0\", \"assignments.csv\", 1)"
            ]
          },
          "metadata": {}
        }
      ]
    },
    {
      "cell_type": "code",
      "source": [],
      "metadata": {
        "id": "8inKvVuyzWhZ"
      },
      "execution_count": null,
      "outputs": []
    },
    {
      "cell_type": "code",
      "source": [
        "# Load the assigned_raw sheet\n",
        "assigned_raw = excel_data.parse('assigned_raw')\n",
        "\n",
        "# Display the first few rows and columns\n",
        "print(assigned_raw.head())\n"
      ],
      "metadata": {
        "colab": {
          "base_uri": "https://localhost:8080/"
        },
        "id": "SvgzstuHyzrv",
        "outputId": "89e63bdd-6e92-4572-fdbf-c17d8af8ab9c"
      },
      "execution_count": 10,
      "outputs": [
        {
          "output_type": "stream",
          "name": "stdout",
          "text": [
            "  TEACHING ASSIGNMENTS: INSTRUCTORS TO COURSES BY TERM  \\\n",
            "0                                                NaN     \n",
            "1                                           FALL2021     \n",
            "2                                   ds_tech_bootcamp     \n",
            "3                                           stat6021     \n",
            "4                                             ds5100     \n",
            "\n",
            "                                  Unnamed: 1   Unnamed: 2  Unnamed: 3  \\\n",
            "0                                        NaN          NaN         NaN   \n",
            "1                                        NaN          NaN         NaN   \n",
            "2                           ds tech bootcamp  Pete Alonzi         NaN   \n",
            "3  STAT 6021: Linear Models for Data Science  Jeffrey Woo         NaN   \n",
            "4       DS 5100 Programming for Data Science     Judy Fox         NaN   \n",
            "\n",
            "         Unnamed: 4                                 Unnamed: 5   Unnamed: 6  \\\n",
            "0               NaN                                        NaN          NaN   \n",
            "1        SUMMER2021                                        NaN           14   \n",
            "2  ds_tech_bootcamp                           ds tech bootcamp  Pete Alonzi   \n",
            "3          stat6021  STAT 6021: Linear Models for Data Science  Jeffrey Woo   \n",
            "4            ds5100       DS 5100 Programming for Data Science   Nada Basit   \n",
            "\n",
            "   Unnamed: 7        Unnamed: 8                                 Unnamed: 9  \\\n",
            "0         NaN               NaN                                        NaN   \n",
            "1         NaN        SPRING2021                                        NaN   \n",
            "2         NaN  ds_tech_bootcamp                           ds tech bootcamp   \n",
            "3         NaN          stat6021  STAT 6021: Linear Models for Data Science   \n",
            "4         NaN            ds5100       DS 5100 Programming for Data Science   \n",
            "\n",
            "   Unnamed: 10  \n",
            "0          NaN  \n",
            "1           14  \n",
            "2  Pete Alonzi  \n",
            "3  Jeffrey Woo  \n",
            "4     Judy Fox  \n"
          ]
        }
      ]
    },
    {
      "cell_type": "code",
      "source": [
        "# Inspect column names\n",
        "print(assigned_raw.columns)\n",
        "\n",
        "# Process instructors based on actual columns containing instructor data\n",
        "instructors = []\n",
        "unique_instructors = set()  # To ensure no duplicates\n",
        "for column in assigned_raw.columns:\n",
        "    if 'Instructor' in column or 'instructor' in column:  # Adjust condition as needed\n",
        "        for name in assigned_raw[column].dropna().unique():\n",
        "            if name not in unique_instructors:\n",
        "                instructors.append({\n",
        "                    \"instructor_id\": len(instructors) + 1,\n",
        "                    \"name\": name,\n",
        "                    \"is_active\": True  # Default to active\n",
        "                })\n",
        "                unique_instructors.add(name)\n",
        "\n",
        "# Convert to DataFrame\n",
        "instructors_df = pd.DataFrame(instructors)\n",
        "print(instructors_df.head())  # Verify the output before saving\n",
        "instructors_df.to_csv('instructors.csv', index=False)\n"
      ],
      "metadata": {
        "colab": {
          "base_uri": "https://localhost:8080/"
        },
        "id": "ZToxJXYFy_hR",
        "outputId": "c3780bb9-5c50-4afc-d196-4f2f71b78aed"
      },
      "execution_count": 11,
      "outputs": [
        {
          "output_type": "stream",
          "name": "stdout",
          "text": [
            "Index(['TEACHING ASSIGNMENTS: INSTRUCTORS TO COURSES BY TERM', 'Unnamed: 1',\n",
            "       'Unnamed: 2', 'Unnamed: 3', 'Unnamed: 4', 'Unnamed: 5', 'Unnamed: 6',\n",
            "       'Unnamed: 7', 'Unnamed: 8', 'Unnamed: 9', 'Unnamed: 10'],\n",
            "      dtype='object')\n",
            "Empty DataFrame\n",
            "Columns: []\n",
            "Index: []\n"
          ]
        }
      ]
    },
    {
      "cell_type": "code",
      "source": [
        "# Inspect the structure of the assigned_raw sheet for course, term, and instructor mapping\n",
        "print(assigned_raw.head())\n",
        "\n",
        "# Process assignments\n",
        "assignments = []\n",
        "for index, row in assigned_raw.iterrows():\n",
        "    for column in assigned_raw.columns:\n",
        "        if 'Fall' in column or 'Spring' in column or 'Summer' in column:  # Adjust term detection\n",
        "            if pd.notnull(row[column]):  # Check if a course-instructor mapping exists\n",
        "                assignments.append({\n",
        "                    \"assignment_id\": len(assignments) + 1,\n",
        "                    \"course_mnemonic\": row['Course'],  # Adjust based on column containing course mnemonic\n",
        "                    \"instructor_id\": row['Instructor'],  # Adjust based on column containing instructor info\n",
        "                    \"term\": column  # Use the column name as the term\n",
        "                })\n",
        "\n",
        "# Convert to DataFrame\n",
        "assignments_df = pd.DataFrame(assignments)\n",
        "print(assignments_df.head())  # Verify the output before saving\n",
        "assignments_df.to_csv('assignments.csv', index=False)\n"
      ],
      "metadata": {
        "colab": {
          "base_uri": "https://localhost:8080/"
        },
        "id": "zKRveBY0zJAe",
        "outputId": "ffcee017-3731-4beb-f536-9d6659d4d47e"
      },
      "execution_count": 12,
      "outputs": [
        {
          "output_type": "stream",
          "name": "stdout",
          "text": [
            "  TEACHING ASSIGNMENTS: INSTRUCTORS TO COURSES BY TERM  \\\n",
            "0                                                NaN     \n",
            "1                                           FALL2021     \n",
            "2                                   ds_tech_bootcamp     \n",
            "3                                           stat6021     \n",
            "4                                             ds5100     \n",
            "\n",
            "                                  Unnamed: 1   Unnamed: 2  Unnamed: 3  \\\n",
            "0                                        NaN          NaN         NaN   \n",
            "1                                        NaN          NaN         NaN   \n",
            "2                           ds tech bootcamp  Pete Alonzi         NaN   \n",
            "3  STAT 6021: Linear Models for Data Science  Jeffrey Woo         NaN   \n",
            "4       DS 5100 Programming for Data Science     Judy Fox         NaN   \n",
            "\n",
            "         Unnamed: 4                                 Unnamed: 5   Unnamed: 6  \\\n",
            "0               NaN                                        NaN          NaN   \n",
            "1        SUMMER2021                                        NaN           14   \n",
            "2  ds_tech_bootcamp                           ds tech bootcamp  Pete Alonzi   \n",
            "3          stat6021  STAT 6021: Linear Models for Data Science  Jeffrey Woo   \n",
            "4            ds5100       DS 5100 Programming for Data Science   Nada Basit   \n",
            "\n",
            "   Unnamed: 7        Unnamed: 8                                 Unnamed: 9  \\\n",
            "0         NaN               NaN                                        NaN   \n",
            "1         NaN        SPRING2021                                        NaN   \n",
            "2         NaN  ds_tech_bootcamp                           ds tech bootcamp   \n",
            "3         NaN          stat6021  STAT 6021: Linear Models for Data Science   \n",
            "4         NaN            ds5100       DS 5100 Programming for Data Science   \n",
            "\n",
            "   Unnamed: 10  \n",
            "0          NaN  \n",
            "1           14  \n",
            "2  Pete Alonzi  \n",
            "3  Jeffrey Woo  \n",
            "4     Judy Fox  \n",
            "Empty DataFrame\n",
            "Columns: []\n",
            "Index: []\n"
          ]
        }
      ]
    },
    {
      "cell_type": "code",
      "source": [
        "files.download('instructors.csv')\n",
        "files.download('assignments.csv')"
      ],
      "metadata": {
        "colab": {
          "base_uri": "https://localhost:8080/",
          "height": 17
        },
        "id": "if09gm_lzYty",
        "outputId": "0c8735f6-2038-4ee2-e5a6-3a5bfe511f55"
      },
      "execution_count": 13,
      "outputs": [
        {
          "output_type": "display_data",
          "data": {
            "text/plain": [
              "<IPython.core.display.Javascript object>"
            ],
            "application/javascript": [
              "\n",
              "    async function download(id, filename, size) {\n",
              "      if (!google.colab.kernel.accessAllowed) {\n",
              "        return;\n",
              "      }\n",
              "      const div = document.createElement('div');\n",
              "      const label = document.createElement('label');\n",
              "      label.textContent = `Downloading \"${filename}\": `;\n",
              "      div.appendChild(label);\n",
              "      const progress = document.createElement('progress');\n",
              "      progress.max = size;\n",
              "      div.appendChild(progress);\n",
              "      document.body.appendChild(div);\n",
              "\n",
              "      const buffers = [];\n",
              "      let downloaded = 0;\n",
              "\n",
              "      const channel = await google.colab.kernel.comms.open(id);\n",
              "      // Send a message to notify the kernel that we're ready.\n",
              "      channel.send({})\n",
              "\n",
              "      for await (const message of channel.messages) {\n",
              "        // Send a message to notify the kernel that we're ready.\n",
              "        channel.send({})\n",
              "        if (message.buffers) {\n",
              "          for (const buffer of message.buffers) {\n",
              "            buffers.push(buffer);\n",
              "            downloaded += buffer.byteLength;\n",
              "            progress.value = downloaded;\n",
              "          }\n",
              "        }\n",
              "      }\n",
              "      const blob = new Blob(buffers, {type: 'application/binary'});\n",
              "      const a = document.createElement('a');\n",
              "      a.href = window.URL.createObjectURL(blob);\n",
              "      a.download = filename;\n",
              "      div.appendChild(a);\n",
              "      a.click();\n",
              "      div.remove();\n",
              "    }\n",
              "  "
            ]
          },
          "metadata": {}
        },
        {
          "output_type": "display_data",
          "data": {
            "text/plain": [
              "<IPython.core.display.Javascript object>"
            ],
            "application/javascript": [
              "download(\"download_24298cd9-4cf6-4cf3-8285-ba80546b4002\", \"instructors.csv\", 1)"
            ]
          },
          "metadata": {}
        },
        {
          "output_type": "display_data",
          "data": {
            "text/plain": [
              "<IPython.core.display.Javascript object>"
            ],
            "application/javascript": [
              "\n",
              "    async function download(id, filename, size) {\n",
              "      if (!google.colab.kernel.accessAllowed) {\n",
              "        return;\n",
              "      }\n",
              "      const div = document.createElement('div');\n",
              "      const label = document.createElement('label');\n",
              "      label.textContent = `Downloading \"${filename}\": `;\n",
              "      div.appendChild(label);\n",
              "      const progress = document.createElement('progress');\n",
              "      progress.max = size;\n",
              "      div.appendChild(progress);\n",
              "      document.body.appendChild(div);\n",
              "\n",
              "      const buffers = [];\n",
              "      let downloaded = 0;\n",
              "\n",
              "      const channel = await google.colab.kernel.comms.open(id);\n",
              "      // Send a message to notify the kernel that we're ready.\n",
              "      channel.send({})\n",
              "\n",
              "      for await (const message of channel.messages) {\n",
              "        // Send a message to notify the kernel that we're ready.\n",
              "        channel.send({})\n",
              "        if (message.buffers) {\n",
              "          for (const buffer of message.buffers) {\n",
              "            buffers.push(buffer);\n",
              "            downloaded += buffer.byteLength;\n",
              "            progress.value = downloaded;\n",
              "          }\n",
              "        }\n",
              "      }\n",
              "      const blob = new Blob(buffers, {type: 'application/binary'});\n",
              "      const a = document.createElement('a');\n",
              "      a.href = window.URL.createObjectURL(blob);\n",
              "      a.download = filename;\n",
              "      div.appendChild(a);\n",
              "      a.click();\n",
              "      div.remove();\n",
              "    }\n",
              "  "
            ]
          },
          "metadata": {}
        },
        {
          "output_type": "display_data",
          "data": {
            "text/plain": [
              "<IPython.core.display.Javascript object>"
            ],
            "application/javascript": [
              "download(\"download_5b1fe9c5-cc61-4b89-8376-728991d24459\", \"assignments.csv\", 1)"
            ]
          },
          "metadata": {}
        }
      ]
    }
  ]
}