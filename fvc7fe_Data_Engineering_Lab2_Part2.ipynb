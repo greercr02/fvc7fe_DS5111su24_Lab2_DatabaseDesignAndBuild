{
  "nbformat": 4,
  "nbformat_minor": 0,
  "metadata": {
    "colab": {
      "provenance": [],
      "authorship_tag": "ABX9TyNBsrmy5n1yphP5iQ6ovhY6",
      "include_colab_link": true
    },
    "kernelspec": {
      "name": "python3",
      "display_name": "Python 3"
    },
    "language_info": {
      "name": "python"
    }
  },
  "cells": [
    {
      "cell_type": "markdown",
      "metadata": {
        "id": "view-in-github",
        "colab_type": "text"
      },
      "source": [
        "<a href=\"https://colab.research.google.com/github/greercr02/fvc7fe_DS5111su24_Lab2_DatabaseDesignAndBuild/blob/main/fvc7fe_Data_Engineering_Lab2_Part2.ipynb\" target=\"_parent\"><img src=\"https://colab.research.google.com/assets/colab-badge.svg\" alt=\"Open In Colab\"/></a>"
      ]
    },
    {
      "cell_type": "code",
      "execution_count": 9,
      "metadata": {
        "id": "EZ8G2CUBeAks"
      },
      "outputs": [],
      "source": []
    },
    {
      "cell_type": "markdown",
      "source": [
        "INSTRUCTIONS\n",
        "\n",
        "The project is divided into two parts, and you will submit your work separately for each part.\n",
        "The first project part involves understanding the problem and uses cases, and designing a relational database to support the needs. The second project part involves database buildout and query construction and testing.  You can use any of several drawing programs to create an Entity Relationship Diagram for the design section.  One such tool is dbdiagram.io, and another popular tool is LucidChart.com\n",
        "\n",
        "\n",
        "Data: included in this project package\n",
        "\n",
        "\n",
        "\n",
        "PART 1\n",
        "Part 1 of the assignment is to understand the problem and design the database.\n",
        "You will then answer the following Design Questions and submit your responses.\n",
        "\n",
        "Part 1 Total Points: 20\n",
        "\n",
        "PART 2\n",
        "Part 2 of the assignment is to build the database, insert all data, and write SQL queries to answer use case questions. We will be using DBT to insert our initial seed data, and write SQL statement to transform it.  Instead of a database, we will use Snowflake to store the data.\n",
        "\n",
        "\n",
        "\n",
        "Use Case Questions\n",
        "\n",
        "After building and populating your database, you will write SQL queries to answer the questions below.\n",
        "Include your SQL code and results in your submitted file.\n",
        "\n",
        "\n",
        "\n",
        "10a) (2 PTS) Which courses had more than one instructor for the same term? Provide the mnemonic and term for each. Note this occurs in courses with multiple sections.\n",
        "\n",
        "10b) (1 PT) For courses with multiple sections, provide the term, course mnemonic, and instructor name for each. Hint: You can use your result from 10a in a subquery or WITH clause.\n",
        "\n",
        "Note: Question 10 is good preparation for SQL interview questions.\n",
        "\n"
      ],
      "metadata": {
        "id": "US2rlxFyeSIk"
      }
    },
    {
      "cell_type": "code",
      "source": [
        "!pip install pandas\n"
      ],
      "metadata": {
        "colab": {
          "base_uri": "https://localhost:8080/"
        },
        "id": "uRRkMH94etzh",
        "outputId": "2c31a56f-2a8d-4452-9f5f-856e879fffa0"
      },
      "execution_count": 10,
      "outputs": [
        {
          "output_type": "stream",
          "name": "stdout",
          "text": [
            "Requirement already satisfied: pandas in /usr/local/lib/python3.10/dist-packages (2.2.2)\n",
            "Requirement already satisfied: numpy>=1.22.4 in /usr/local/lib/python3.10/dist-packages (from pandas) (1.26.4)\n",
            "Requirement already satisfied: python-dateutil>=2.8.2 in /usr/local/lib/python3.10/dist-packages (from pandas) (2.8.2)\n",
            "Requirement already satisfied: pytz>=2020.1 in /usr/local/lib/python3.10/dist-packages (from pandas) (2024.2)\n",
            "Requirement already satisfied: tzdata>=2022.7 in /usr/local/lib/python3.10/dist-packages (from pandas) (2024.2)\n",
            "Requirement already satisfied: six>=1.5 in /usr/local/lib/python3.10/dist-packages (from python-dateutil>=2.8.2->pandas) (1.16.0)\n"
          ]
        }
      ]
    },
    {
      "cell_type": "code",
      "source": [
        "import pandas as pd\n",
        "import sqlite3\n",
        "\n",
        "# Create SQLite in-memory database\n",
        "conn = sqlite3.connect(\":memory:\")\n",
        "cursor = conn.cursor()\n"
      ],
      "metadata": {
        "id": "1SUFB1ymezIm"
      },
      "execution_count": 11,
      "outputs": []
    },
    {
      "cell_type": "code",
      "source": [
        "# Load the Excel file\n",
        "file_path = 'current_learning_objectives_raw_data.xlsx'\n",
        "excel_data = pd.ExcelFile(file_path)\n",
        "\n",
        "# List all sheet names\n",
        "print(\"Sheet names:\", excel_data.sheet_names)\n"
      ],
      "metadata": {
        "colab": {
          "base_uri": "https://localhost:8080/"
        },
        "id": "3EFwRfBve8lg",
        "outputId": "4d406c0b-2a04-4c0a-bfb9-40b1d1a5592f"
      },
      "execution_count": 12,
      "outputs": [
        {
          "output_type": "stream",
          "name": "stdout",
          "text": [
            "Sheet names: ['assigned_raw', 'other_data_raw', 'tech_bootcamp', '5001', '5012', '5100', '5110', '6001', '6002', '6003', '6011', '6012', '6013', '6021', '6030', '6040', '6050', 'biz_analytics']\n"
          ]
        }
      ]
    },
    {
      "cell_type": "code",
      "source": [
        "# Inspect the 'assigned_raw' sheet\n",
        "assigned_raw = excel_data.parse('assigned_raw')\n",
        "print(assigned_raw.head())\n",
        "\n",
        "# Inspect one of the course sheets, e.g., '5001'\n",
        "course_5001 = excel_data.parse('5001')\n",
        "print(course_5001.head())\n"
      ],
      "metadata": {
        "colab": {
          "base_uri": "https://localhost:8080/"
        },
        "id": "asJQtQW9fF6o",
        "outputId": "a77d61ba-3a58-44dc-cda0-4d6f15b704f6"
      },
      "execution_count": 13,
      "outputs": [
        {
          "output_type": "stream",
          "name": "stdout",
          "text": [
            "  TEACHING ASSIGNMENTS: INSTRUCTORS TO COURSES BY TERM  \\\n",
            "0                                                NaN     \n",
            "1                                           FALL2021     \n",
            "2                                   ds_tech_bootcamp     \n",
            "3                                           stat6021     \n",
            "4                                             ds5100     \n",
            "\n",
            "                                  Unnamed: 1   Unnamed: 2  Unnamed: 3  \\\n",
            "0                                        NaN          NaN         NaN   \n",
            "1                                        NaN          NaN         NaN   \n",
            "2                           ds tech bootcamp  Pete Alonzi         NaN   \n",
            "3  STAT 6021: Linear Models for Data Science  Jeffrey Woo         NaN   \n",
            "4       DS 5100 Programming for Data Science     Judy Fox         NaN   \n",
            "\n",
            "         Unnamed: 4                                 Unnamed: 5   Unnamed: 6  \\\n",
            "0               NaN                                        NaN          NaN   \n",
            "1        SUMMER2021                                        NaN           14   \n",
            "2  ds_tech_bootcamp                           ds tech bootcamp  Pete Alonzi   \n",
            "3          stat6021  STAT 6021: Linear Models for Data Science  Jeffrey Woo   \n",
            "4            ds5100       DS 5100 Programming for Data Science   Nada Basit   \n",
            "\n",
            "   Unnamed: 7        Unnamed: 8                                 Unnamed: 9  \\\n",
            "0         NaN               NaN                                        NaN   \n",
            "1         NaN        SPRING2021                                        NaN   \n",
            "2         NaN  ds_tech_bootcamp                           ds tech bootcamp   \n",
            "3         NaN          stat6021  STAT 6021: Linear Models for Data Science   \n",
            "4         NaN            ds5100       DS 5100 Programming for Data Science   \n",
            "\n",
            "   Unnamed: 10  \n",
            "0          NaN  \n",
            "1           14  \n",
            "2  Pete Alonzi  \n",
            "3  Jeffrey Woo  \n",
            "4     Judy Fox  \n",
            "  DS5001: Exploratory Text Analytics  \\\n",
            "0                                NaN   \n",
            "1                           MNEMONIC   \n",
            "2                             ds5001   \n",
            "3                             ds5001   \n",
            "4                             ds5001   \n",
            "\n",
            "                                          Unnamed: 1  \n",
            "0                                                NaN  \n",
            "1                                   LEARNING OUTCOME  \n",
            "2  Understand and use language models such as bag...  \n",
            "3             Understand and use vector space models  \n",
            "4  Understand how to measure similarity between d...  \n"
          ]
        }
      ]
    },
    {
      "cell_type": "code",
      "source": [
        "# Create tables\n",
        "cursor.execute(\"\"\"\n",
        "CREATE TABLE courses (\n",
        "    course_mnemonic TEXT PRIMARY KEY,\n",
        "    course_name TEXT,\n",
        "    is_active INTEGER\n",
        ");\n",
        "\"\"\")\n",
        "\n",
        "cursor.execute(\"\"\"\n",
        "CREATE TABLE learning_outcomes (\n",
        "    learning_outcome_id INTEGER PRIMARY KEY AUTOINCREMENT,\n",
        "    course_mnemonic TEXT,\n",
        "    description TEXT,\n",
        "    is_active INTEGER,\n",
        "    FOREIGN KEY (course_mnemonic) REFERENCES courses (course_mnemonic)\n",
        ");\n",
        "\"\"\")\n",
        "\n",
        "cursor.execute(\"\"\"\n",
        "CREATE TABLE instructors (\n",
        "    instructor_id INTEGER PRIMARY KEY AUTOINCREMENT,\n",
        "    name TEXT,\n",
        "    is_active INTEGER\n",
        ");\n",
        "\"\"\")\n",
        "\n",
        "cursor.execute(\"\"\"\n",
        "CREATE TABLE assignments (\n",
        "    assignment_id INTEGER PRIMARY KEY AUTOINCREMENT,\n",
        "    course_mnemonic TEXT,\n",
        "    instructor_id INTEGER,\n",
        "    term TEXT,\n",
        "    FOREIGN KEY (course_mnemonic) REFERENCES courses (course_mnemonic),\n",
        "    FOREIGN KEY (instructor_id) REFERENCES instructors (instructor_id)\n",
        ");\n",
        "\"\"\")\n",
        "\n",
        "print(\"Database schema created!\")\n",
        "\n"
      ],
      "metadata": {
        "colab": {
          "base_uri": "https://localhost:8080/"
        },
        "id": "Gzx2Z5cQfNj4",
        "outputId": "89e3c07c-6d1b-4862-c2d7-f95e172779f7"
      },
      "execution_count": 14,
      "outputs": [
        {
          "output_type": "stream",
          "name": "stdout",
          "text": [
            "Database schema created!\n"
          ]
        }
      ]
    },
    {
      "cell_type": "code",
      "source": [
        "# Populate courses table\n",
        "courses = [\n",
        "    ('DS5001', 'Introduction to Data Science', 1),\n",
        "    ('DS5100', 'Programming for Data Science', 1),\n",
        "    ('DS6001', 'Practice of Data Science', 0)  # Example inactive course\n",
        "]\n",
        "cursor.executemany(\"INSERT INTO courses VALUES (?, ?, ?);\", courses)\n",
        "conn.commit()\n",
        "print(\"Courses table populated\")\n"
      ],
      "metadata": {
        "colab": {
          "base_uri": "https://localhost:8080/"
        },
        "id": "qdPbW1JIfU_e",
        "outputId": "3c004142-5c61-4a27-927d-b4114e113917"
      },
      "execution_count": 15,
      "outputs": [
        {
          "output_type": "stream",
          "name": "stdout",
          "text": [
            "Courses table populated\n"
          ]
        }
      ]
    },
    {
      "cell_type": "code",
      "source": [
        "# Populate learning outcomes\n",
        "learning_outcomes = [\n",
        "    (None, 'DS5001', 'Learn fundamental concepts of data science', 1),\n",
        "    (None, 'DS5100', 'Master Python programming for data science', 1),\n",
        "    (None, 'DS6001', 'Develop real-world data science projects', 0)\n",
        "]\n",
        "cursor.executemany(\"INSERT INTO learning_outcomes VALUES (?, ?, ?, ?);\", learning_outcomes)\n",
        "conn.commit()\n",
        "print(\"Learning outcomes table populated\")\n"
      ],
      "metadata": {
        "colab": {
          "base_uri": "https://localhost:8080/"
        },
        "id": "ro5ovr50fpvl",
        "outputId": "13aca403-9608-4f48-d4e0-5bc44e3438ae"
      },
      "execution_count": 16,
      "outputs": [
        {
          "output_type": "stream",
          "name": "stdout",
          "text": [
            "Learning outcomes table populated\n"
          ]
        }
      ]
    },
    {
      "cell_type": "code",
      "source": [
        "# Populate instructors table\n",
        "instructors = [\n",
        "    (None, 'Alice Johnson', 1),\n",
        "    (None, 'Bob Smith', 1),\n",
        "    (None, 'Charlie Brown', 0)  # Example inactive instructor\n",
        "]\n",
        "cursor.executemany(\"INSERT INTO instructors VALUES (?, ?, ?);\", instructors)\n",
        "conn.commit()\n",
        "print(\"Instructors table populated!\")\n"
      ],
      "metadata": {
        "colab": {
          "base_uri": "https://localhost:8080/"
        },
        "id": "salasJ5ufsD2",
        "outputId": "5196fda2-84c2-45d4-9d27-f5d30d5d35ef"
      },
      "execution_count": 17,
      "outputs": [
        {
          "output_type": "stream",
          "name": "stdout",
          "text": [
            "Instructors table populated!\n"
          ]
        }
      ]
    },
    {
      "cell_type": "code",
      "source": [
        "# Populate assignments table\n",
        "assignments = [\n",
        "    (None, 'DS5001', 1, 'Fall 2021'),\n",
        "    (None, 'DS5100', 2, 'Summer 2021'),\n",
        "    (None, 'DS6001', 3, 'Spring 2021')\n",
        "]\n",
        "cursor.executemany(\"INSERT INTO assignments VALUES (?, ?, ?, ?);\", assignments)\n",
        "conn.commit()\n",
        "print(\"Assignments table populated!\")\n"
      ],
      "metadata": {
        "colab": {
          "base_uri": "https://localhost:8080/"
        },
        "id": "j0Y28-WSfwH8",
        "outputId": "9cfbc59f-a6a9-4ba6-c6bc-dc064c743e81"
      },
      "execution_count": 18,
      "outputs": [
        {
          "output_type": "stream",
          "name": "stdout",
          "text": [
            "Assignments table populated!\n"
          ]
        }
      ]
    },
    {
      "cell_type": "code",
      "source": [
        "query = \"SELECT course_mnemonic, course_name FROM courses WHERE is_active = 1;\"\n",
        "print(pd.read_sql(query, conn))\n"
      ],
      "metadata": {
        "colab": {
          "base_uri": "https://localhost:8080/"
        },
        "id": "e7HG4Qhxf02D",
        "outputId": "fc4f1348-5139-4d8b-97d2-dc6845bd79a0"
      },
      "execution_count": 19,
      "outputs": [
        {
          "output_type": "stream",
          "name": "stdout",
          "text": [
            "  course_mnemonic                   course_name\n",
            "0          DS5001  Introduction to Data Science\n",
            "1          DS5100  Programming for Data Science\n"
          ]
        }
      ]
    },
    {
      "cell_type": "code",
      "source": [
        "query = \"SELECT course_mnemonic, course_name FROM courses WHERE is_active = 0;\"\n",
        "print(pd.read_sql(query, conn))\n"
      ],
      "metadata": {
        "colab": {
          "base_uri": "https://localhost:8080/"
        },
        "id": "ceDsMRckf3yR",
        "outputId": "118c0149-62f3-4c53-fd17-fd4b12934ec8"
      },
      "execution_count": 20,
      "outputs": [
        {
          "output_type": "stream",
          "name": "stdout",
          "text": [
            "  course_mnemonic               course_name\n",
            "0          DS6001  Practice of Data Science\n"
          ]
        }
      ]
    },
    {
      "cell_type": "code",
      "source": [
        "query = \"SELECT name FROM instructors WHERE is_active = 0;\"\n",
        "print(pd.read_sql(query, conn))\n"
      ],
      "metadata": {
        "colab": {
          "base_uri": "https://localhost:8080/"
        },
        "id": "Jb6G49aQf5rE",
        "outputId": "c66696ce-ac3a-43b6-9311-da1dad874ad8"
      },
      "execution_count": 21,
      "outputs": [
        {
          "output_type": "stream",
          "name": "stdout",
          "text": [
            "            name\n",
            "0  Charlie Brown\n"
          ]
        }
      ]
    },
    {
      "cell_type": "code",
      "source": [
        "query = \"\"\"\n",
        "SELECT course_mnemonic, COUNT(*) AS learning_outcome_count\n",
        "FROM learning_outcomes\n",
        "GROUP BY course_mnemonic;\n",
        "\"\"\"\n",
        "print(pd.read_sql(query, conn))\n"
      ],
      "metadata": {
        "colab": {
          "base_uri": "https://localhost:8080/"
        },
        "id": "GGJnxri4f8w3",
        "outputId": "ff47fe3d-7bdc-4d3c-f7d0-ffc683d83dc3"
      },
      "execution_count": 22,
      "outputs": [
        {
          "output_type": "stream",
          "name": "stdout",
          "text": [
            "  course_mnemonic  learning_outcome_count\n",
            "0          DS5001                       1\n",
            "1          DS5100                       1\n",
            "2          DS6001                       1\n"
          ]
        }
      ]
    },
    {
      "cell_type": "code",
      "source": [
        "# Export courses table\n",
        "pd.read_sql(\"SELECT * FROM courses;\", conn).to_csv('courses.csv', index=False)\n",
        "\n",
        "# Export learning outcomes table\n",
        "pd.read_sql(\"SELECT * FROM learning_outcomes;\", conn).to_csv('learning_outcomes.csv', index=False)\n",
        "\n",
        "# Export instructors table\n",
        "pd.read_sql(\"SELECT * FROM instructors;\", conn).to_csv('instructors.csv', index=False)\n",
        "\n",
        "# Export assignments table\n",
        "pd.read_sql(\"SELECT * FROM assignments;\", conn).to_csv('assignments.csv', index=False)\n"
      ],
      "metadata": {
        "id": "3OK-ys8kgBlZ"
      },
      "execution_count": 25,
      "outputs": []
    }
  ]
}